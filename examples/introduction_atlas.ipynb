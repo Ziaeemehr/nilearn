{
 "cells": [
  {
   "cell_type": "markdown",
   "metadata": {},
   "source": [
    "## [Link](https://nilearn.github.io/connectivity/functional_connectomes.html#parcellation-time-series)"
   ]
  },
  {
   "cell_type": "code",
   "execution_count": 1,
   "metadata": {},
   "outputs": [],
   "source": [
    "from nilearn import plotting\n",
    "import numpy as np \n",
    "import nilearn"
   ]
  },
  {
   "cell_type": "code",
   "execution_count": 2,
   "metadata": {},
   "outputs": [],
   "source": [
    "data = nilearn.datasets.fetch_atlas_aal()"
   ]
  },
  {
   "cell_type": "code",
   "execution_count": 3,
   "metadata": {},
   "outputs": [
    {
     "name": "stdout",
     "output_type": "stream",
     "text": [
      "<class 'sklearn.utils.Bunch'>\n"
     ]
    }
   ],
   "source": [
    "print(type(data))"
   ]
  },
  {
   "cell_type": "code",
   "execution_count": 4,
   "metadata": {},
   "outputs": [
    {
     "name": "stdout",
     "output_type": "stream",
     "text": [
      "4\n",
      "dict_keys(['description', 'maps', 'labels', 'indices'])\n",
      "116\n",
      "116\n"
     ]
    }
   ],
   "source": [
    "print(len(data))\n",
    "print(data.keys())\n",
    "print(len(data.labels))\n",
    "print(len(data.indices))\n",
    "# print(data.maps)\n",
    "# print(data.description)"
   ]
  },
  {
   "cell_type": "code",
   "execution_count": 5,
   "metadata": {},
   "outputs": [
    {
     "name": "stderr",
     "output_type": "stream",
     "text": [
      "/usr/local/lib/python3.6/dist-packages/numpy/lib/npyio.py:2372: VisibleDeprecationWarning: Reading unicode strings without specifying the encoding argument is deprecated. Set the encoding, use None for the system default.\n",
      "  output = genfromtxt(fname, **kwargs)\n"
     ]
    }
   ],
   "source": [
    "destrieux = nilearn.datasets.fetch_atlas_destrieux_2009()"
   ]
  },
  {
   "cell_type": "code",
   "execution_count": 6,
   "metadata": {},
   "outputs": [
    {
     "name": "stdout",
     "output_type": "stream",
     "text": [
      "3\n",
      "dict_keys(['maps', 'labels', 'description'])\n",
      "151\n"
     ]
    }
   ],
   "source": [
    "print(len(destrieux))\n",
    "print(destrieux.keys())\n",
    "print(len(destrieux.labels))\n",
    "# print(len(data.indices))\n",
    "# print(destrieux.maps)\n",
    "# print(destrieux.description)"
   ]
  },
  {
   "cell_type": "code",
   "execution_count": 7,
   "metadata": {},
   "outputs": [],
   "source": [
    "coordinates = plotting.find_parcellation_cut_coords(destrieux['maps'])"
   ]
  },
  {
   "cell_type": "code",
   "execution_count": 8,
   "metadata": {},
   "outputs": [
    {
     "name": "stdout",
     "output_type": "stream",
     "text": [
      "(148, 3)\n",
      "<class 'numpy.recarray'>\n",
      "[(0, b'Background') (1, b'L G_and_S_frontomargin')\n",
      " (2, b'L G_and_S_occipital_inf')]\n",
      "<class 'numpy.bytes_'>\n"
     ]
    }
   ],
   "source": [
    "print(coordinates.shape)\n",
    "# print(coordinates[:5, :])\n",
    "# np.savetxt(\"data/destrieux_2009_coordinates.txt\", coordinates, fmt=\"%18.9f\")\n",
    "# np.savetxt(\"data/destrieux_2009_labels.txt\", destrieux.labels)\n",
    "print(type(destrieux.labels))\n",
    "print(destrieux.labels[:3])\n",
    "print(type(destrieux.labels[1][1]))\n"
   ]
  },
  {
   "cell_type": "markdown",
   "metadata": {},
   "source": [
    "### A functional connectome: extracting coordinates of regions\n",
    "A functional connectome: extracting coordinates of regions"
   ]
  },
  {
   "cell_type": "code",
   "execution_count": 9,
   "metadata": {},
   "outputs": [],
   "source": [
    "# coordinates = plotting.find_parcellation_cut_coords(\n",
    "#     labels_img=yeo['thick_17'])"
   ]
  },
  {
   "cell_type": "code",
   "execution_count": 10,
   "metadata": {},
   "outputs": [
    {
     "name": "stdout",
     "output_type": "stream",
     "text": [
      "Yeo atlas nifti image (3D) with 17 parcels and liberal mask is located at: /home/abolfazl/nilearn_data/yeo_2011/Yeo_JNeurophysiol11_MNI152/Yeo2011_17Networks_MNI152_FreeSurferConformed1mm_LiberalMask.nii.gz\n"
     ]
    }
   ],
   "source": [
    "from nilearn import datasets\n",
    "from nilearn import plotting\n",
    "\n",
    "yeo = datasets.fetch_atlas_yeo_2011()\n",
    "print('Yeo atlas nifti image (3D) with 17 parcels and liberal mask is located '\n",
    "      'at: %s' % yeo['thick_17'])"
   ]
  },
  {
   "cell_type": "code",
   "execution_count": 11,
   "metadata": {},
   "outputs": [
    {
     "name": "stdout",
     "output_type": "stream",
     "text": [
      "dict_keys(['description', 'thin_7', 'thick_7', 'thin_17', 'thick_17', 'colors_7', 'colors_17', 'anat'])\n"
     ]
    }
   ],
   "source": [
    "print(yeo.keys())"
   ]
  },
  {
   "cell_type": "code",
   "execution_count": 12,
   "metadata": {},
   "outputs": [],
   "source": [
    "coordinates = plotting.find_parcellation_cut_coords(labels_img=yeo['thick_17'])"
   ]
  },
  {
   "cell_type": "code",
   "execution_count": 13,
   "metadata": {},
   "outputs": [
    {
     "name": "stdout",
     "output_type": "stream",
     "text": [
      "(17, 3)\n",
      "[[-26.08691104 -85.02461552  -1.78400214]\n",
      " [-11.44628099 -72.29265921  11.63924311]\n",
      " [-23.1343885  -25.87231899  62.18399215]\n",
      " [-51.01955636 -15.31800211  17.39336049]\n",
      " [-33.88532586 -65.32925142  21.65206863]]\n"
     ]
    }
   ],
   "source": [
    "print(coordinates.shape)\n",
    "print(coordinates[:5, :])"
   ]
  },
  {
   "cell_type": "code",
   "execution_count": null,
   "metadata": {},
   "outputs": [],
   "source": []
  }
 ],
 "metadata": {
  "kernelspec": {
   "display_name": "Python 3.6.9 64-bit",
   "language": "python",
   "name": "python36964bit3ec0dbbd46ae448585f9bbd63312a519"
  },
  "language_info": {
   "codemirror_mode": {
    "name": "ipython",
    "version": 3
   },
   "file_extension": ".py",
   "mimetype": "text/x-python",
   "name": "python",
   "nbconvert_exporter": "python",
   "pygments_lexer": "ipython3",
   "version": "3.6.9"
  }
 },
 "nbformat": 4,
 "nbformat_minor": 4
}
