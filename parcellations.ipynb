{
 "cells": [
  {
   "cell_type": "markdown",
   "metadata": {},
   "source": [
    "## [Link](https://nilearn.github.io/connectivity/functional_connectomes.html#parcellation-time-series)"
   ]
  },
  {
   "cell_type": "markdown",
   "metadata": {},
   "source": [
    "### A functional connectome: extracting coordinates of regions\n",
    "A functional connectome: extracting coordinates of regions"
   ]
  },
  {
   "cell_type": "code",
   "execution_count": 1,
   "metadata": {},
   "outputs": [],
   "source": [
    "from nilearn import plotting\n",
    "import numpy as np \n",
    "import nilearn"
   ]
  },
  {
   "cell_type": "code",
   "execution_count": 2,
   "metadata": {},
   "outputs": [
    {
     "name": "stderr",
     "output_type": "stream",
     "text": [
      "/usr/local/lib/python3.6/dist-packages/numpy/lib/npyio.py:2372: VisibleDeprecationWarning: Reading unicode strings without specifying the encoding argument is deprecated. Set the encoding, use None for the system default.\n",
      "  output = genfromtxt(fname, **kwargs)\n"
     ]
    }
   ],
   "source": [
    "destrieux = nilearn.datasets.fetch_atlas_destrieux_2009()"
   ]
  },
  {
   "cell_type": "code",
   "execution_count": 4,
   "metadata": {},
   "outputs": [],
   "source": [
    "# print(len(destrieux))\n",
    "# print(destrieux.keys())\n",
    "# print(len(destrieux.labels))\n",
    "# print(len(data.indices))\n",
    "# print(destrieux.maps)\n",
    "# print(destrieux.description)"
   ]
  },
  {
   "cell_type": "code",
   "execution_count": 5,
   "metadata": {},
   "outputs": [],
   "source": [
    "coordinates, int_labels = plotting.find_parcellation_cut_coords(\n",
    "    destrieux['maps'], \n",
    "    return_label_names=True)"
   ]
  },
  {
   "cell_type": "code",
   "execution_count": 6,
   "metadata": {},
   "outputs": [
    {
     "name": "stdout",
     "output_type": "stream",
     "text": [
      "(148, 3)\n",
      "148\n"
     ]
    }
   ],
   "source": [
    "print(coordinates.shape)\n",
    "print(len(int_labels))\n",
    "# print(coordinates[:5, :])\n",
    "# np.savetxt(\"data/destrieux_2009_coordinates.txt\", coordinates, fmt=\"%18.9f\")\n",
    "# np.savetxt(\"data/destrieux_2009_labels.txt\", destrieux.labels)\n",
    "# print(type(destrieux.labels))\n",
    "# print(destrieux.labels[:3])\n",
    "# print(type(destrieux.labels[1][1]))\n",
    "# print(labels)\n",
    "# print(type(int_labels[0]))\n",
    "# print(type(destrieux.labels[0][0]))"
   ]
  },
  {
   "cell_type": "code",
   "execution_count": 9,
   "metadata": {},
   "outputs": [],
   "source": [
    "np.savetxt(\"data/destrieux_2009_coordinates.txt\", coordinates, fmt=\"%18.9f\")\n",
    "# np.savetxt(\"data/destrieux_2009_labels.txt\", labels, fmt=\"%3d\")"
   ]
  },
  {
   "cell_type": "code",
   "execution_count": 7,
   "metadata": {},
   "outputs": [],
   "source": [
    "labels_int_string = [[destrieux.labels[i][0], \n",
    "           destrieux.labels[i][1].decode('UTF-8')] \n",
    "          for i in range(1, len(destrieux.labels))]\n",
    "# np.savetxt(\"data/destrieux_2009_labels_string.txt\", labels_int_string, fmt=\"%3s\")"
   ]
  },
  {
   "cell_type": "code",
   "execution_count": 11,
   "metadata": {},
   "outputs": [],
   "source": [
    "ofile = open(\"data/destrieux_2009_labels.txt\", \"w\")\n",
    "int_labels_dest = [destrieux.labels[j][0] for j in range(len(destrieux.labels))]\n",
    "my_list=[]\n",
    "for i in int_labels:\n",
    "    if i in int_labels_dest:\n",
    "        ofile.write(\"{:3d} {:s} \\n\".format(i, destrieux.labels[i][1].decode('UTF-8')))\n",
    "ofile.close()    "
   ]
  },
  {
   "cell_type": "code",
   "execution_count": null,
   "metadata": {},
   "outputs": [],
   "source": [
    "# plotting.find_parcellation_cut_coords?\n",
    "# type(destrieux.labels[1][1].decode('UTF-8'))\n",
    "# print(len(labels))\n",
    "# print(labels)\n",
    "# print(destrieux.labels)"
   ]
  },
  {
   "cell_type": "code",
   "execution_count": null,
   "metadata": {},
   "outputs": [],
   "source": []
  },
  {
   "cell_type": "code",
   "execution_count": null,
   "metadata": {},
   "outputs": [],
   "source": []
  }
 ],
 "metadata": {
  "kernelspec": {
   "display_name": "Python 3.6.9 64-bit",
   "language": "python",
   "name": "python36964bit3ec0dbbd46ae448585f9bbd63312a519"
  },
  "language_info": {
   "codemirror_mode": {
    "name": "ipython",
    "version": 3
   },
   "file_extension": ".py",
   "mimetype": "text/x-python",
   "name": "python",
   "nbconvert_exporter": "python",
   "pygments_lexer": "ipython3",
   "version": "3.6.9"
  }
 },
 "nbformat": 4,
 "nbformat_minor": 4
}
